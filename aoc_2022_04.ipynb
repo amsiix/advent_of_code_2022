{
 "cells": [
  {
   "cell_type": "markdown",
   "id": "2b82d856-f9c1-46a9-bb60-47fcd8628a39",
   "metadata": {},
   "source": [
    "# Advent of Code\n",
    "\n",
    "## --- Day 4: Camp Cleanup ---\n",
    "\n",
    "Space needs to be cleared before the last supplies can be unloaded from the ships, and so several Elves have been assigned the job of cleaning up sections of the camp. Every section has a unique ID number, and each Elf is assigned a range of section IDs.\n",
    "\n",
    "However, as some of the Elves compare their section assignments with each other, they've noticed that many of the assignments overlap. To try to quickly find overlaps and reduce duplicated effort, the Elves pair up and make a big list of the section assignments for each pair (your puzzle input).\n",
    "\n",
    "For example, consider the following list of section assignment pairs:\n",
    "\n",
    "`2-4,6-8`      \n",
    "`2-3,4-5`   \n",
    "`5-7,7-9`   \n",
    "`2-8,3-7`   \n",
    "`6-6,4-6`   \n",
    "`2-6,4-8`   \n",
    "\n",
    "For the first few pairs, this list means:\n",
    "\n",
    "- Within the first pair of Elves, the first Elf was assigned sections `2-4` (sections `2`, `3`, and `4`), while the second Elf was assigned sections `6-8` (sections `6`, `7`, `8`).\n",
    "- The Elves in the second pair were each assigned two sections.\n",
    "- The Elves in the third pair were each assigned three sections: one got sections `5`, `6`, and `7`, while the other also got `7`, plus `8` and `9`.\n",
    "\n",
    "This example list uses single-digit section IDs to make it easier to draw; your actual list might contain larger numbers. Visually, these pairs of section assignments look like this:\n",
    "\n",
    "`.234.....  2-4`   \n",
    "`.....678.  6-8`   \n",
    "`              `   \n",
    "`.23......  2-3`   \n",
    "`...45....  4-5`   \n",
    "`              `   \n",
    "`....567..  5-7`   \n",
    "`......789  7-9`   \n",
    "`              `   \n",
    "`.2345678.  2-8`   \n",
    "`..34567..  3-7`     \n",
    "`              `   \n",
    "`.....6...  6-6`   \n",
    "`...456...  4-6`   \n",
    "`              `   \n",
    "`.23456...  2-6`   \n",
    "`...45678.  4-8`   \n",
    "\n",
    "Some of the pairs have noticed that one of their assignments fully contains the other. For example, 2-8 fully contains 3-7, and 6-6 is fully contained by 4-6. In pairs where one assignment fully contains the other, one Elf in the pair would be exclusively cleaning sections their partner will already be cleaning, so these seem like the most in need of reconsideration. In this example, there are 2 such pairs.\n",
    "\n",
    "In how many assignment pairs does one range fully contain the other?\n"
   ]
  },
  {
   "cell_type": "code",
   "execution_count": 1,
   "id": "f7848478-2768-4d99-b3cc-3d25b12ba7eb",
   "metadata": {},
   "outputs": [],
   "source": [
    "data = open(\"aoc_data_04.txt\").read().strip().split(\"\\n\")"
   ]
  },
  {
   "cell_type": "code",
   "execution_count": 2,
   "id": "bd3feaa8-3402-40a9-9c3e-69b6b507b40c",
   "metadata": {},
   "outputs": [
    {
     "name": "stdout",
     "output_type": "stream",
     "text": [
      "498\n"
     ]
    }
   ],
   "source": [
    "s1 = s2 = 0\n",
    "for d in data:\n",
    "    a,b = [x.split(\"-\") for x in d.split(\",\")]\n",
    "    L1, H1 = [int(x) for x in a]\n",
    "    L2, H2 = [int(x) for x in b]\n",
    "    \n",
    "    # count of fully contained intervals\n",
    "    s1 += 1 if L1 >= L2 and H1 <= H2 or L1 <= L2 and H1 >= H2 else 0\n",
    "    \n",
    "   \n",
    "print(s1)\n",
    "    \n",
    "    "
   ]
  },
  {
   "cell_type": "markdown",
   "id": "4a81ee24-84b3-4446-8b58-0c12966d23d9",
   "metadata": {},
   "source": [
    "Your puzzle answer was `498`."
   ]
  },
  {
   "cell_type": "markdown",
   "id": "a6f4573b-5b03-4d4d-aa24-14b8b2d0fac2",
   "metadata": {},
   "source": [
    "## --- Part Two ---\n",
    "\n",
    "It seems like there is still quite a bit of duplicate work planned. Instead, the Elves would like to know the number of pairs that overlap at all.\n",
    "\n",
    "In the above example, the first two pairs (2-4,6-8 and 2-3,4-5) don't overlap, while the remaining four pairs (5-7,7-9, 2-8,3-7, 6-6,4-6, and 2-6,4-8) do overlap:\n",
    "\n",
    "    5-7,7-9 overlaps in a single section, 7.\n",
    "    2-8,3-7 overlaps all of the sections 3 through 7.\n",
    "    6-6,4-6 overlaps in a single section, 6.\n",
    "    2-6,4-8 overlaps in sections 4, 5, and 6.\n",
    "\n",
    "So, in this example, the number of overlapping assignment pairs is 4.\n",
    "\n",
    "In how many assignment pairs do the ranges overlap?"
   ]
  },
  {
   "cell_type": "code",
   "execution_count": 24,
   "id": "3fb9a840-bd29-4248-8a1c-78104ffd7b93",
   "metadata": {},
   "outputs": [
    {
     "name": "stdout",
     "output_type": "stream",
     "text": [
      "859\n"
     ]
    }
   ],
   "source": [
    "s1 = s2 = 0\n",
    "for d in data:\n",
    "    a,b = [x.split(\"-\") for x in d.split(\",\")]\n",
    "    L1, H1 = [int(x) for x in a]\n",
    "    L2, H2 = [int(x) for x in b]\n",
    "    \n",
    "# count of overlapping intervals\n",
    "    s2 += 1 if H1 >= L2 and H2 >= L1 else 0\n",
    "    \n",
    "   \n",
    "print(s2)"
   ]
  },
  {
   "cell_type": "markdown",
   "id": "a4fd6bbb-0ff8-4534-9ae6-fe035e5c9d10",
   "metadata": {},
   "source": [
    "Your puzzle answer was `859`."
   ]
  },
  {
   "cell_type": "code",
   "execution_count": null,
   "id": "caae3c8a-24da-488f-b302-49d2caa69f68",
   "metadata": {},
   "outputs": [],
   "source": []
  }
 ],
 "metadata": {
  "kernelspec": {
   "display_name": "Python 3 (ipykernel)",
   "language": "python",
   "name": "python3"
  },
  "language_info": {
   "codemirror_mode": {
    "name": "ipython",
    "version": 3
   },
   "file_extension": ".py",
   "mimetype": "text/x-python",
   "name": "python",
   "nbconvert_exporter": "python",
   "pygments_lexer": "ipython3",
   "version": "3.9.12"
  }
 },
 "nbformat": 4,
 "nbformat_minor": 5
}
