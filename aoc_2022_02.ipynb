{
 "cells": [
  {
   "cell_type": "markdown",
   "id": "799f0d72-5443-4c1c-8bb5-f9f06443f1a4",
   "metadata": {},
   "source": [
    "# Advent of Code\n",
    "\n",
    "## --- Day 2: Rock Paper Scissors ---\n",
    "\n",
    "The Elves begin to set up camp on the beach. To decide whose tent gets to be closest to the snack storage, a giant Rock Paper Scissors tournament is already in progress.\n",
    "\n",
    "Rock Paper Scissors is a game between two players. Each game contains many rounds; in each round, the players each simultaneously choose one of Rock, Paper, or Scissors using a hand shape. Then, a winner for that round is selected: Rock defeats Scissors, Scissors defeats Paper, and Paper defeats Rock. If both players choose the same shape, the round instead ends in a draw.\n",
    "\n",
    "Appreciative of your help yesterday, one Elf gives you an encrypted strategy guide (your puzzle input) that they say will be sure to help you win. \"The first column is what your opponent is going to play: A for Rock, B for Paper, and C for Scissors. The second column--\" Suddenly, the Elf is called away to help with someone's tent.\n",
    "\n",
    "The second column, you reason, must be what you should play in response: X for Rock, Y for Paper, and Z for Scissors. Winning every time would be suspicious, so the responses must have been carefully chosen.\n",
    "\n",
    "The winner of the whole tournament is the player with the highest score. Your total score is the sum of your scores for each round. The score for a single round is the score for the shape you selected (1 for Rock, 2 for Paper, and 3 for Scissors) plus the score for the outcome of the round (0 if you lost, 3 if the round was a draw, and 6 if you won).\n",
    "\n",
    "Since you can't be sure if the Elf is trying to help you or trick you, you should calculate the score you would get if you were to follow the strategy guide.\n",
    "\n",
    "For example, suppose you were given the following strategy guide:\n",
    "\n",
    "`A Y`   \n",
    "`B X`   \n",
    "`C Z`   \n",
    "\n",
    "This strategy guide predicts and recommends the following:\n",
    "\n",
    "    In the first round, your opponent will choose Rock (A), and you should choose Paper (Y). This ends in a win for you with a score of 8 (2 because you chose Paper + 6 because you won).\n",
    "    In the second round, your opponent will choose Paper (B), and you should choose Rock (X). This ends in a loss for you with a score of 1 (1 + 0).\n",
    "    The third round is a draw with both players choosing Scissors, giving you a score of 3 + 3 = 6.\n",
    "\n",
    "In this example, if you were to follow the strategy guide, you would get a total score of 15 (8 + 1 + 6).\n",
    "\n",
    "What would your total score be if everything goes exactly according to your strategy guide?"
   ]
  },
  {
   "cell_type": "code",
   "execution_count": 2,
   "id": "dda42eba-71b4-4d6e-a2fd-99cc0db11798",
   "metadata": {},
   "outputs": [],
   "source": [
    "data = open(\"aoc_data_02.txt\").read().strip().split(\"\\n\")"
   ]
  },
  {
   "cell_type": "code",
   "execution_count": 31,
   "id": "00ab224f-e5e5-43bb-b8fd-e4aba0bf69e6",
   "metadata": {},
   "outputs": [
    {
     "name": "stdout",
     "output_type": "stream",
     "text": [
      "12679\n"
     ]
    },
    {
     "data": {
      "text/plain": [
       "12679"
      ]
     },
     "execution_count": 31,
     "metadata": {},
     "output_type": "execute_result"
    }
   ],
   "source": [
    "value_game = {\"loss\" : 0, \"tie\" : 3, \"win\" : 6 }   \n",
    "value_shape = { \"rock\" : 1 , \"paper\" : 2, \"scissors\" : 3}\n",
    "\n",
    "R2 = {}\n",
    "R2[\"A X\"] = value_shape[\"rock\"]     + value_game[\"tie\"]; # tie\n",
    "R2[\"A Y\"] = value_shape[\"paper\"]    + value_game[\"win\"]; # win\n",
    "R2[\"A Z\"] = value_shape[\"scissors\"] + value_game[\"loss\"]; # loss\n",
    "R2[\"B X\"] = value_shape[\"rock\"]     + value_game[\"loss\"]; # loss\n",
    "R2[\"B Y\"] = value_shape[\"paper\"]    + value_game[\"tie\"]; # tie\n",
    "R2[\"B Z\"] = value_shape[\"scissors\"] + value_game[\"win\"]; # win\n",
    "R2[\"C X\"] = value_shape[\"rock\"]     + value_game[\"win\"]; # win\n",
    "R2[\"C Y\"] = value_shape[\"paper\"]    + value_game[\"loss\"]; # loss\n",
    "R2[\"C Z\"] = value_shape[\"scissors\"] + value_game[\"tie\"]; # tie\n",
    "    \n",
    "\n",
    "sum([R2[d] for d in data])"
   ]
  },
  {
   "cell_type": "markdown",
   "id": "9cb58359-6c9f-4076-8a79-e90a39546a5d",
   "metadata": {},
   "source": [
    "Your puzzle answer was `12679`."
   ]
  },
  {
   "cell_type": "markdown",
   "id": "56d9da6f-8fb9-4aef-840a-99fc7c76d43a",
   "metadata": {},
   "source": [
    "## --- Part Two ---\n",
    "\n",
    "The Elf finishes helping with the tent and sneaks back over to you. \"Anyway, the second column says how the round needs to end: X means you need to lose, Y means you need to end the round in a draw, and Z means you need to win. Good luck!\"\n",
    "\n",
    "The total score is still calculated in the same way, but now you need to figure out what shape to choose so the round ends as indicated. The example above now goes like this:\n",
    "\n",
    "    In the first round, your opponent will choose Rock (A), and you need the round to end in a draw (Y), so you also choose Rock. This gives you a score of 1 + 3 = 4.\n",
    "    In the second round, your opponent will choose Paper (B), and you choose Rock so you lose (X) with a score of 1 + 0 = 1.\n",
    "    In the third round, you will defeat your opponent's Scissors with Rock for a score of 1 + 6 = 7.\n",
    "\n",
    "Now that you're correctly decrypting the ultra top secret strategy guide, you would get a total score of 12.\n",
    "\n",
    "Following the Elf's instructions for the second column, what would your total score be if everything goes exactly according to your strategy guide?"
   ]
  },
  {
   "cell_type": "code",
   "execution_count": 33,
   "id": "9b8af49a-34d1-4808-9b66-2e98f38207aa",
   "metadata": {},
   "outputs": [
    {
     "data": {
      "text/plain": [
       "14470"
      ]
     },
     "execution_count": 33,
     "metadata": {},
     "output_type": "execute_result"
    }
   ],
   "source": [
    "\n",
    "R2 = {}\n",
    "\n",
    "R2[\"A X\"] = value_shape[\"scissors\"] + value_game[\"loss\"]; # loss, \n",
    "R2[\"A Y\"] = value_shape[\"rock\"]     + value_game[\"tie\"]; # tie\n",
    "R2[\"A Z\"] = value_shape[\"paper\"]    + value_game[\"win\"]; # win\n",
    "\n",
    "R2[\"B X\"] = value_shape[\"rock\"]     + value_game[\"loss\"]; # loss\n",
    "R2[\"B Y\"] = value_shape[\"paper\"]    + value_game[\"tie\"]; # tie\n",
    "R2[\"B Z\"] = value_shape[\"scissors\"] + value_game[\"win\"]; # win\n",
    "\n",
    "R2[\"C X\"] = value_shape[\"paper\"]    + value_game[\"loss\"]; # loss\n",
    "R2[\"C Y\"] = value_shape[\"scissors\"] + value_game[\"tie\"]; # tie\n",
    "R2[\"C Z\"] = value_shape[\"rock\"]     + value_game[\"win\"]; # win\n",
    "    \n",
    "\n",
    "sum([R2[d] for d in data])"
   ]
  },
  {
   "cell_type": "markdown",
   "id": "824cf427-4617-4712-9918-20f8e2a282a0",
   "metadata": {},
   "source": [
    "Your puzzle answer was `14470`."
   ]
  },
  {
   "cell_type": "code",
   "execution_count": null,
   "id": "f07d99d7-6c49-4495-83f9-33ab62e8e218",
   "metadata": {},
   "outputs": [],
   "source": []
  }
 ],
 "metadata": {
  "kernelspec": {
   "display_name": "Python 3 (ipykernel)",
   "language": "python",
   "name": "python3"
  },
  "language_info": {
   "codemirror_mode": {
    "name": "ipython",
    "version": 3
   },
   "file_extension": ".py",
   "mimetype": "text/x-python",
   "name": "python",
   "nbconvert_exporter": "python",
   "pygments_lexer": "ipython3",
   "version": "3.9.12"
  }
 },
 "nbformat": 4,
 "nbformat_minor": 5
}
