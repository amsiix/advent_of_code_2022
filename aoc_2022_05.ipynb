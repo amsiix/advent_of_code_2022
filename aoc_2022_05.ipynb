{
 "cells": [
  {
   "cell_type": "markdown",
   "id": "734b2ba7-ca89-419d-b832-9de72969ff06",
   "metadata": {},
   "source": [
    "# Advent of Code 2022\n",
    "\n",
    "## --- Day 5: Supply Stacks ---\n",
    "\n",
    "The expedition can depart as soon as the final supplies have been unloaded from the ships. Supplies are stored in stacks of marked crates, but because the needed supplies are buried under many other crates, the crates need to be rearranged.\n",
    "\n",
    "The ship has a giant cargo crane capable of moving crates between stacks. To ensure none of the crates get crushed or fall over, the crane operator will rearrange them in a series of carefully-planned steps. After the crates are rearranged, the desired crates will be at the top of each stack.\n",
    "\n",
    "The Elves don't want to interrupt the crane operator during this delicate procedure, but they forgot to ask her which crate will end up where, and they want to be ready to unload them as soon as possible so they can embark.\n",
    "\n",
    "They do, however, have a drawing of the starting stacks of crates and the rearrangement procedure (your puzzle input). For example:\n",
    "\n",
    "`     [D]    `   \n",
    "`[N] [C]    `   \n",
    "`[Z] [M] [P]`   \n",
    "`  1   2   3 `  \n",
    "\n",
    "move 1 from 2 to 1\n",
    "move 3 from 1 to 3\n",
    "move 2 from 2 to 1\n",
    "move 1 from 1 to 2\n",
    "\n",
    "In this example, there are three stacks of crates. Stack 1 contains two crates: crate Z is on the bottom, and crate N is on top. Stack 2 contains three crates; from bottom to top, they are crates M, C, and D. Finally, stack 3 contains a single crate, P.\n",
    "\n",
    "Then, the rearrangement procedure is given. In each step of the procedure, a quantity of crates is moved from one stack to a different stack. In the first step of the above rearrangement procedure, one crate is moved from stack 2 to stack 1, resulting in this configuration:\n",
    "\n",
    "`[D]        `   \n",
    "`[N] [C]    `   \n",
    "`[Z] [M] [P]`   \n",
    "`  1   2   3`   \n",
    "\n",
    "In the second step, three crates are moved from stack 1 to stack 3. Crates are moved one at a time, so the first crate to be moved (D) ends up below the second and third crates:\n",
    "\n",
    "`        [Z]`   \n",
    "`        [N]`   \n",
    "`    [C] [D]`   \n",
    "`    [M] [P]`   \n",
    "` 1   2   3`   \n",
    "\n",
    "Then, both crates are moved from stack 2 to stack 1. Again, because crates are moved one at a time, crate C ends up below crate M:\n",
    "\n",
    "`        [Z]`   \n",
    "`        [N]`   \n",
    "`[M]     [D]`   \n",
    "`[C]     [P]`   \n",
    "` 1   2   3`   \n",
    "\n",
    "Finally, one crate is moved from stack 1 to stack 2:\n",
    "\n",
    "`        [Z]`   \n",
    "`        [N]`   \n",
    "`        [D]`   \n",
    "`[C] [M] [P]`   \n",
    "` 1   2   3`   \n",
    "\n",
    "The Elves just need to know which crate will end up on top of each stack; in this example, the top crates are C in stack 1, M in stack 2, and Z in stack 3, so you should combine these together and give the Elves the message CMZ.\n",
    "\n",
    "After the rearrangement procedure completes, what crate ends up on top of each stack?\n"
   ]
  },
  {
   "cell_type": "code",
   "execution_count": 1,
   "id": "5613a20b-f573-4135-b486-a13127cba4b3",
   "metadata": {},
   "outputs": [],
   "source": [
    "# read the input file \n",
    "data = open(\"aoc_data_05.txt\", \"r\").read().strip().split(\"\\n\")"
   ]
  },
  {
   "cell_type": "code",
   "execution_count": 2,
   "id": "c710c9d1-a968-46d1-b48a-612a5b69a481",
   "metadata": {},
   "outputs": [
    {
     "name": "stdout",
     "output_type": "stream",
     "text": [
      "FJSRQCFTN\n"
     ]
    }
   ],
   "source": [
    "stacks = []\n",
    "for i in range(9):\n",
    "    stacks.append([])\n",
    "    \n",
    "for d in data[0:8]:\n",
    "    for i in range(len(d)):\n",
    "        if d[i] >= \"A\"  and d[i] <= \"Z\":\n",
    "            stack_index =  sum([(i == (x * 4 + 1)) * (x+1) for x in range(9)]) - 1\n",
    "            stacks[stack_index].append(d[i])\n",
    "\n",
    "for cmd in data[10:]:\n",
    "    x = cmd.split(\" \")\n",
    "    n, fr,to = int(x[1]), int(x[3]), int(x[5])\n",
    "    for j in range(n):\n",
    "        t = stacks[fr-1].pop(0)\n",
    "        stacks[to-1].insert(0, t)\n",
    "    \n",
    "s = \"\"\n",
    "for i in range(9):\n",
    "    s += stacks[i][0]\n",
    "\n",
    "print(s)"
   ]
  },
  {
   "cell_type": "markdown",
   "id": "ab36c934-188f-45d8-9c92-a1d8a866ff83",
   "metadata": {},
   "source": [
    "Your puzzle answer was `FJSRQCFTN`."
   ]
  },
  {
   "cell_type": "markdown",
   "id": "8a10c600-1367-4800-97aa-bcb71a11d454",
   "metadata": {},
   "source": [
    "The first half of this puzzle is complete! It provides one gold star: *\n",
    "\n",
    "## --- Part Two ---\n",
    "\n",
    "As you watch the crane operator expertly rearrange the crates, you notice the process isn't following your prediction.\n",
    "\n",
    "Some mud was covering the writing on the side of the crane, and you quickly wipe it away. The crane isn't a CrateMover 9000 - it's a CrateMover 9001.\n",
    "\n",
    "The CrateMover 9001 is notable for many new and exciting features: air conditioning, leather seats, an extra cup holder, and the ability to pick up and move multiple crates at once.\n",
    "\n",
    "Again considering the example above, the crates begin in the same configuration:\n",
    "\n",
    "`     [D]    `   \n",
    "`[N] [C]    `   \n",
    "`[Z] [M] [P]`   \n",
    "` 1   2   3 `   \n",
    "\n",
    "Moving a single crate from stack 2 to stack 1 behaves the same as before:\n",
    "\n",
    "`[D]        `   \n",
    "`[N] [C]    `   \n",
    "`[Z] [M] [P]`   \n",
    "` 1   2   3 `   \n",
    "\n",
    "However, the action of moving three crates from stack 1 to stack 3 means that those three moved crates stay in the same order, resulting in this new configuration:\n",
    "\n",
    "`        [D]`   \n",
    "`        [N]`   \n",
    "`    [C] [Z]`   \n",
    "`    [M] [P]`   \n",
    "` 1   2   3`   \n",
    "\n",
    "Next, as both crates are moved from stack 2 to stack 1, they retain their order as well:\n",
    "\n",
    "`        [D]`   \n",
    "`        [N]`   \n",
    "`[C]     [Z]`   \n",
    "`[M]     [P]`   \n",
    "` 1   2   3`   \n",
    "\n",
    "Finally, a single crate is still moved from stack 1 to stack 2, but now it's crate C that gets moved:\n",
    "\n",
    "`        [D]`   \n",
    "`        [N]`   \n",
    "`        [Z]`   \n",
    "`[M] [C] [P]`   \n",
    "` 1   2   3`   \n",
    "\n",
    "In this example, the CrateMover 9001 has put the crates in a totally different order: MCD.\n",
    "\n",
    "Before the rearrangement process finishes, update your simulation so that the Elves know where they should stand to be ready to unload the final supplies. After the rearrangement procedure completes, what crate ends up on top of each stack?"
   ]
  },
  {
   "cell_type": "code",
   "execution_count": 3,
   "id": "9e3fb93a-756f-4bdc-b2a0-ec72509dba5b",
   "metadata": {},
   "outputs": [
    {
     "name": "stdout",
     "output_type": "stream",
     "text": [
      "CJVLJQPHS\n"
     ]
    }
   ],
   "source": [
    "stacks = []\n",
    "for i in range(9):\n",
    "    stacks.append([])\n",
    "    \n",
    "for d in data[0:8]:\n",
    "    for i in range(len(d)):\n",
    "        if d[i] >= \"A\"  and d[i] <= \"Z\":\n",
    "            stack_index =  sum([(i == (x * 4 + 1)) * (x+1) for x in range(9)]) - 1\n",
    "            stacks[stack_index].append(d[i])\n",
    "\n",
    "for cmd in data[10:]:\n",
    "    x = cmd.split(\" \")\n",
    "    n, fr,to = int(x[1]), int(x[3]), int(x[5])\n",
    "    t = []\n",
    "    for j in range(n):\n",
    "        t.append(stacks[fr-1].pop(0))\n",
    "    stacks[to-1] = t + stacks[to-1]\n",
    "    \n",
    "s = \"\"\n",
    "for i in range(9):\n",
    "    s += stacks[i][0]\n",
    "\n",
    "print(s)"
   ]
  },
  {
   "cell_type": "markdown",
   "id": "f290b995-1eb1-4634-9376-49d81d07c8a7",
   "metadata": {},
   "source": [
    "Your puzzle answer was `CJVLJQPHS`."
   ]
  },
  {
   "cell_type": "code",
   "execution_count": null,
   "id": "604c3e06-5d3e-4272-8db4-72b2a7d9729f",
   "metadata": {},
   "outputs": [],
   "source": []
  }
 ],
 "metadata": {
  "kernelspec": {
   "display_name": "Python 3 (ipykernel)",
   "language": "python",
   "name": "python3"
  },
  "language_info": {
   "codemirror_mode": {
    "name": "ipython",
    "version": 3
   },
   "file_extension": ".py",
   "mimetype": "text/x-python",
   "name": "python",
   "nbconvert_exporter": "python",
   "pygments_lexer": "ipython3",
   "version": "3.9.12"
  }
 },
 "nbformat": 4,
 "nbformat_minor": 5
}
