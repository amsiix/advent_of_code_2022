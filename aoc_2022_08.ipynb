{
 "cells": [
  {
   "cell_type": "markdown",
   "id": "0b88d294-5085-4379-b0e6-b71be22bd167",
   "metadata": {},
   "source": [
    "# Advent of Code\n",
    "\n",
    "## --- Day 8: Treetop Tree House ---\n",
    "\n",
    "The expedition comes across a peculiar patch of tall trees all planted carefully in a grid. The Elves explain that a previous expedition planted these trees as a reforestation effort. Now, they're curious if this would be a good location for a tree house.\n",
    "\n",
    "First, determine whether there is enough tree cover here to keep a tree house hidden. To do this, you need to count the number of trees that are visible from outside the grid when looking directly along a row or column.\n",
    "\n",
    "The Elves have already launched a quadcopter to generate a map with the height of each tree (your puzzle input). For example:\n",
    "\n",
    "30373\n",
    "25512\n",
    "65332\n",
    "33549\n",
    "35390\n",
    "\n",
    "Each tree is represented as a single digit whose value is its height, where 0 is the shortest and 9 is the tallest.\n",
    "\n",
    "A tree is visible if all of the other trees between it and an edge of the grid are shorter than it. Only consider trees in the same row or column; that is, only look up, down, left, or right from any given tree.\n",
    "\n",
    "All of the trees around the edge of the grid are visible - since they are already on the edge, there are no trees to block the view. In this example, that only leaves the interior nine trees to consider:\n",
    "\n",
    "    The top-left 5 is visible from the left and top. (It isn't visible from the right or bottom since other trees of height 5 are in the way.)\n",
    "    The top-middle 5 is visible from the top and right.\n",
    "    The top-right 1 is not visible from any direction; for it to be visible, there would need to only be trees of height 0 between it and an edge.\n",
    "    The left-middle 5 is visible, but only from the right.\n",
    "    The center 3 is not visible from any direction; for it to be visible, there would need to be only trees of at most height 2 between it and an edge.\n",
    "    The right-middle 3 is visible from the right.\n",
    "    In the bottom row, the middle 5 is visible, but the 3 and 4 are not.\n",
    "\n",
    "With 16 trees visible on the edge and another 5 visible in the interior, a total of 21 trees are visible in this arrangement.\n",
    "\n",
    "Consider your map; how many trees are visible from outside the grid?\n",
    "\n",
    "To begin, [get your puzzle input](https://adventofcode.com/2022/day/8/input).\n",
    "\n",
    "Answer:\n",
    "\n"
   ]
  },
  {
   "cell_type": "code",
   "execution_count": 1,
   "id": "6d6e851c-0d3d-46db-854a-269cd579e434",
   "metadata": {},
   "outputs": [],
   "source": [
    "data = open(\"aoc_data_08.txt\").read().strip().split(\"\\n\")\n",
    "#data = [\"30373\", \"25512\", \"65332\", \"33549\", \"35390\"]"
   ]
  },
  {
   "cell_type": "code",
   "execution_count": 2,
   "id": "2e09dca2-c0bc-4ce9-a45c-b8960fa5a160",
   "metadata": {},
   "outputs": [],
   "source": [
    "import numpy as np\n",
    "\n",
    "N = len(data)\n",
    "S = 4 * (N - 1)\n",
    "n = len(data) - 2\n",
    "\n",
    "A = np.zeros([N,N])\n",
    "for i in range(N):\n",
    "    for j in range(N):\n",
    "        A[i][j] = int(data[i][j])"
   ]
  },
  {
   "cell_type": "code",
   "execution_count": 3,
   "id": "f7d75fcd-2121-46f1-9785-a28fb2781265",
   "metadata": {},
   "outputs": [
    {
     "name": "stdout",
     "output_type": "stream",
     "text": [
      "[[0. 0. 0. ... 2. 2. 2.]\n",
      " [2. 2. 1. ... 2. 2. 0.]\n",
      " [1. 2. 2. ... 2. 0. 2.]\n",
      " ...\n",
      " [0. 2. 0. ... 0. 1. 1.]\n",
      " [1. 0. 0. ... 0. 1. 0.]\n",
      " [0. 2. 2. ... 1. 2. 1.]]\n",
      "99\n"
     ]
    }
   ],
   "source": [
    "print(A)\n",
    "print(N)"
   ]
  },
  {
   "cell_type": "code",
   "execution_count": 4,
   "id": "a54da892-50e3-4e1d-b0c1-b8248c99c8b6",
   "metadata": {},
   "outputs": [
    {
     "data": {
      "text/plain": [
       "1785.0"
      ]
     },
     "execution_count": 4,
     "metadata": {},
     "output_type": "execute_result"
    }
   ],
   "source": [
    "R1 = np.zeros((n,n))\n",
    "\n",
    "for i in range(n):\n",
    "    for j in range(n):\n",
    "        #print(i + 1, j + 1, \":\", A[i + 1, j + 1])\n",
    "        R1[i,j] = sum([\n",
    "                np.greater_equal(A[i + 1, 0:(j + 1)], np.full((1, j + 1),A[i + 1, j + 1])).sum() == 0,\n",
    "                np.greater_equal(A[i + 1, (j+2):], np.full((1, N - j - 2),A[i + 1,j + 1])).sum() == 0,\n",
    "                np.greater_equal(A[0:(i + 1), (j + 1)],  np.full((1, i + 1), A[i + 1,j + 1])).sum() == 0,\n",
    "                np.greater_equal(A[(i + 2):, (j + 1)], np.full((1, N - i - 2), A[i + 1,j + 1])).sum() == 0\n",
    "                ]\n",
    "            ) > 0\n",
    "        #print(R[i,j])\n",
    "        #print()\n",
    "\n",
    "R1.sum() + S"
   ]
  },
  {
   "cell_type": "markdown",
   "id": "91168efd-4e77-4df9-ab1d-ccfc21a306ac",
   "metadata": {},
   "source": [
    "Your puzzle answer was 1785."
   ]
  },
  {
   "cell_type": "markdown",
   "id": "8d57325f-9d1a-4c1d-acad-6fabe29cd6bd",
   "metadata": {},
   "source": [
    "## --- Part Two ---\n",
    "\n",
    "Content with the amount of tree cover available, the Elves just need to know the best spot to build their tree house: they would like to be able to see a lot of trees.\n",
    "\n",
    "To measure the viewing distance from a given tree, look up, down, left, and right from that tree; stop if you reach an edge or at the first tree that is the same height or taller than the tree under consideration. (If a tree is right on the edge, at least one of its viewing distances will be zero.)\n",
    "\n",
    "The Elves don't care about distant trees taller than those found by the rules above; the proposed tree house has large eaves to keep it dry, so they wouldn't be able to see higher than the tree house anyway.\n",
    "\n",
    "In the example above, consider the middle 5 in the second row:\n",
    "\n",
    "30373\n",
    "25512\n",
    "65332\n",
    "33549\n",
    "35390\n",
    "\n",
    "    Looking up, its view is not blocked; it can see 1 tree (of height 3).\n",
    "    Looking left, its view is blocked immediately; it can see only 1 tree (of height 5, right next to it).\n",
    "    Looking right, its view is not blocked; it can see 2 trees.\n",
    "    Looking down, its view is blocked eventually; it can see 2 trees (one of height 3, then the tree of height 5 that blocks its view).\n",
    "\n",
    "A tree's scenic score is found by multiplying together its viewing distance in each of the four directions. For this tree, this is 4 (found by multiplying 1 * 1 * 2 * 2).\n",
    "\n",
    "However, you can do even better: consider the tree of height 5 in the middle of the fourth row:\n",
    "\n",
    "30373\n",
    "25512\n",
    "65332\n",
    "33549\n",
    "35390\n",
    "\n",
    "    Looking up, its view is blocked at 2 trees (by another tree with a height of 5).\n",
    "    Looking left, its view is not blocked; it can see 2 trees.\n",
    "    Looking down, its view is also not blocked; it can see 1 tree.\n",
    "    Looking right, its view is blocked at 2 trees (by a massive tree of height 9).\n",
    "\n",
    "This tree's scenic score is 8 (2 * 2 * 1 * 2); this is the ideal spot for the tree house.\n",
    "\n",
    "Consider each tree on your map. What is the highest scenic score possible for any tree?"
   ]
  },
  {
   "cell_type": "code",
   "execution_count": 5,
   "id": "5e73443b-7bfa-4c89-90b3-16f090f3714d",
   "metadata": {},
   "outputs": [
    {
     "name": "stdout",
     "output_type": "stream",
     "text": [
      "CPU times: user 255 ms, sys: 570 µs, total: 255 ms\n",
      "Wall time: 256 ms\n"
     ]
    },
    {
     "data": {
      "text/plain": [
       "345168.0"
      ]
     },
     "execution_count": 5,
     "metadata": {},
     "output_type": "execute_result"
    }
   ],
   "source": [
    "%%time\n",
    "R2 = np.ones((n,n))\n",
    "\n",
    "for i in range(n):\n",
    "    for j in range(n):\n",
    "\n",
    "        a = np.greater_equal(A[i + 1, 0:(j + 1)], np.full((1, j + 1),A[i + 1, j + 1])[0]) # Left\n",
    "        b = a[::-1]\n",
    "        if np.nonzero(b)[0].size > 0:\n",
    "            score_left =  np.min(np.where(b)) + 1\n",
    "        else:\n",
    "            score_left = b.size\n",
    "\n",
    "        a = np.greater_equal(A[i + 1, (j+2):], np.full((1, N - j - 2),A[i + 1,j + 1])[0]) # Right\n",
    "        if np.nonzero(a)[0].size > 0:\n",
    "            score_right =  np.min(np.where(a)) + 1\n",
    "        else:\n",
    "            score_right = a.size\n",
    "\n",
    "\n",
    "        a  = np.greater_equal(A[0:(i + 1), (j + 1)],  np.full((1, i + 1), A[i + 1,j + 1])[0]) #Top\n",
    "        b = a[::-1]\n",
    "        if np.nonzero(b)[0].size > 0:\n",
    "            score_top =  np.min(np.where(b)) + 1\n",
    "        else:\n",
    "            score_top = b.size\n",
    "\n",
    "\n",
    "        a = np.greater_equal(A[(i + 2):, (j + 1)], np.full((1, N - i - 2), A[i + 1,j + 1])[0]) # Bottom\n",
    "        if np.nonzero(a)[0].size > 0:\n",
    "            score_bottom =  np.min(np.where(a)) + 1\n",
    "        else:\n",
    "            score_bottom = a.size\n",
    "\n",
    "        score = score_top * score_bottom * score_left * score_right\n",
    "        R2 [i,j] = score\n",
    "\n",
    "R2.max()"
   ]
  },
  {
   "cell_type": "markdown",
   "id": "66c35f90-56b1-45f0-84b0-8f8e1f79f3d1",
   "metadata": {},
   "source": [
    "Your puzzle answer was 345168."
   ]
  },
  {
   "cell_type": "code",
   "execution_count": null,
   "id": "96f82cdb-a7f7-4b8f-be51-b39a92274303",
   "metadata": {},
   "outputs": [],
   "source": []
  }
 ],
 "metadata": {
  "kernelspec": {
   "display_name": "Python 3 (ipykernel)",
   "language": "python",
   "name": "python3"
  },
  "language_info": {
   "codemirror_mode": {
    "name": "ipython",
    "version": 3
   },
   "file_extension": ".py",
   "mimetype": "text/x-python",
   "name": "python",
   "nbconvert_exporter": "python",
   "pygments_lexer": "ipython3",
   "version": "3.9.12"
  }
 },
 "nbformat": 4,
 "nbformat_minor": 5
}
