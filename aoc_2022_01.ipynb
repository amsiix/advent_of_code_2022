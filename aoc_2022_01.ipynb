{
 "cells": [
  {
   "cell_type": "code",
   "execution_count": 37,
   "id": "8e60c7a2-670f-42b9-be45-e05a07c5b875",
   "metadata": {},
   "outputs": [],
   "source": [
    "# cat tmp.txt | awk 'BEGIN{s = 0} {if ($0 ~ /^$/) {print s; s=0} else {s += $0}} END{print s}' | sort -rn  | head -1\n",
    "\n",
    "# What's the calorie count for the top three calorie carriers\n",
    "# cat tmp.txt | awk 'BEGIN{s = 0} {if ($0 ~ /^$/) {print s; s=0} else {s += $0}} END{print s}' | sort -rn  | head -3 | awk '{s+=$0} END{print s}'"
   ]
  },
  {
   "attachments": {},
   "cell_type": "markdown",
   "id": "d489ba97-f1a5-4e14-9569-4f37d38e4e30",
   "metadata": {},
   "source": [
    "# Advent of Code\n",
    "\n",
    "## --- Day 1: Calorie Counting ---\n",
    "\n",
    "Santa's reindeer typically eat regular reindeer food, but they need a lot of magical energy to deliver presents on Christmas. For that, their favorite snack is a special type of star fruit that only grows deep in the jungle. The Elves have brought you on their annual expedition to the grove where the fruit grows.\n",
    "\n",
    "To supply enough magical energy, the expedition needs to retrieve a minimum of fifty stars by December 25th. Although the Elves assure you that the grove has plenty of fruit, you decide to grab any fruit you see along the way, just in case.\n",
    "\n",
    "Collect stars by solving puzzles. Two puzzles will be made available on each day in the Advent calendar; the second puzzle is unlocked when you complete the first. Each puzzle grants one star. Good luck!\n",
    "\n",
    "The jungle must be too overgrown and difficult to navigate in vehicles or access from the air; the Elves' expedition traditionally goes on foot. As your boats approach land, the Elves begin taking inventory of their supplies. One important consideration is food - in particular, the number of Calories each Elf is carrying (your puzzle input).\n",
    "\n",
    "The Elves take turns writing down the number of Calories contained by the various meals, snacks, rations, etc. that they've brought with them, one item per line. Each Elf separates their own inventory from the previous Elf's inventory (if any) by a blank line.\n",
    "\n",
    "For example, suppose the Elves finish writing their items' Calories and end up with the following list:\n",
    "\n",
    "`1000`  \n",
    "`2000`   \n",
    "`3000`  \n",
    "`    `     \n",
    "`4000`  \n",
    "`    `     \n",
    "`5000`  \n",
    "`6000`   \n",
    "`    `     \n",
    "`7000`   \n",
    "`8000`  \n",
    "`9000`   \n",
    "`    `     \n",
    "`10000`   \n",
    "\n",
    "This list represents the Calories of the food carried by five Elves:\n",
    "\n",
    "    The first Elf is carrying food with 1000, 2000, and 3000 Calories, a total of 6000 Calories.\n",
    "    The second Elf is carrying one food item with 4000 Calories.\n",
    "    The third Elf is carrying food with 5000 and 6000 Calories, a total of 11000 Calories.\n",
    "    The fourth Elf is carrying food with 7000, 8000, and 9000 Calories, a total of 24000 Calories.\n",
    "    The fifth Elf is carrying one food item with 10000 Calories.\n",
    "\n",
    "In case the Elves get hungry and need extra snacks, they need to know which Elf to ask: they'd like to know how many Calories are being carried by the Elf carrying the most Calories. In the example above, this is 24000 (carried by the fourth Elf).\n",
    "\n",
    "Find the Elf carrying the most Calories. How many total Calories is that Elf carrying?"
   ]
  },
  {
   "cell_type": "code",
   "execution_count": 38,
   "id": "fb099816-f59e-4216-aa7d-8a2876fece79",
   "metadata": {},
   "outputs": [],
   "source": [
    "data = open(\"aoc_data_01.txt\").read().strip().split(\"\\n\")"
   ]
  },
  {
   "cell_type": "code",
   "execution_count": 39,
   "id": "7be0c106",
   "metadata": {},
   "outputs": [],
   "source": [
    "from itertools import groupby\n",
    "\n",
    "# groupby allows to partition the data list into subgroups. \n",
    "# In this case, the sublist are strings, so we need to map to integers\n",
    "calorie_count = [\n",
    "    sum(list(map(int, list(sub)))) \n",
    "        for k, sub in groupby(data, key=bool) \n",
    "            if k]\n"
   ]
  },
  {
   "cell_type": "code",
   "execution_count": 40,
   "id": "3b5a267a-b720-49ad-a14a-66c5f6c687e2",
   "metadata": {},
   "outputs": [
    {
     "data": {
      "text/plain": [
       "70509"
      ]
     },
     "execution_count": 40,
     "metadata": {},
     "output_type": "execute_result"
    }
   ],
   "source": [
    "sorted(calorie_count, reverse = True)[0]"
   ]
  },
  {
   "cell_type": "markdown",
   "id": "92b48836-d3d5-4240-8748-6ae14e311921",
   "metadata": {},
   "source": [
    "Your puzzle answer was `70509`."
   ]
  },
  {
   "cell_type": "markdown",
   "id": "d96492ea-2ae2-4bb1-a1e2-3c2141bd5d68",
   "metadata": {},
   "source": [
    "## --- Part Two ---\n",
    "\n",
    "By the time you calculate the answer to the Elves' question, they've already realized that the Elf carrying the most Calories of food might eventually run out of snacks.\n",
    "\n",
    "To avoid this unacceptable situation, the Elves would instead like to know the total Calories carried by the top three Elves carrying the most Calories. That way, even if one of those Elves runs out of snacks, they still have two backups.\n",
    "\n",
    "In the example above, the top three Elves are the fourth Elf (with 24000 Calories), then the third Elf (with 11000 Calories), then the fifth Elf (with 10000 Calories). The sum of the Calories carried by these three elves is 45000.\n",
    "\n",
    "Find the top three Elves carrying the most Calories. How many Calories are those Elves carrying in total?"
   ]
  },
  {
   "cell_type": "code",
   "execution_count": 41,
   "id": "24e8cc63-8d09-4f83-941d-5ec757eca312",
   "metadata": {},
   "outputs": [
    {
     "data": {
      "text/plain": [
       "208567"
      ]
     },
     "execution_count": 41,
     "metadata": {},
     "output_type": "execute_result"
    }
   ],
   "source": [
    "sum(sorted(calorie_count, reverse = True)[0:3])"
   ]
  },
  {
   "cell_type": "markdown",
   "id": "a289b0d7-bb05-4dc8-b60e-7fc0b2dc061f",
   "metadata": {},
   "source": [
    "Your puzzle answer was `208567`."
   ]
  }
 ],
 "metadata": {
  "kernelspec": {
   "display_name": "Python 3 (ipykernel)",
   "language": "python",
   "name": "python3"
  },
  "language_info": {
   "codemirror_mode": {
    "name": "ipython",
    "version": 3
   },
   "file_extension": ".py",
   "mimetype": "text/x-python",
   "name": "python",
   "nbconvert_exporter": "python",
   "pygments_lexer": "ipython3",
   "version": "3.8.8"
  }
 },
 "nbformat": 4,
 "nbformat_minor": 5
}
