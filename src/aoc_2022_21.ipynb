{
 "cells": [
  {
   "attachments": {},
   "cell_type": "markdown",
   "id": "63e69a7c-db69-437c-8b10-37e34c521fa0",
   "metadata": {},
   "source": [
    "\n",
    "Advent of Code\n",
    "\n",
    "    [About][Events][Shop][Settings][Log Out]\n",
    "\n",
    "Abel Méndez Santillán 17*\n",
    "   int y=2022;\n",
    "\n",
    "    [Calendar][AoC++][Sponsors][Leaderboard][Stats]\n",
    "\n",
    "Our sponsors help make Advent of Code possible:\n",
    "Ximedes - From Kotlin in the cloud to NodeJS in the terminal, our software powers payments and public transport ticketing all over the world.\n",
    "--- Day 21: Monkey Math ---\n",
    "\n",
    "The monkeys are back! You're worried they're going to try to steal your stuff again, but it seems like they're just holding their ground and making various monkey noises at you.\n",
    "\n",
    "Eventually, one of the elephants realizes you don't speak monkey and comes over to interpret. As it turns out, they overheard you talking about trying to find the grove; they can show you a shortcut if you answer their riddle.\n",
    "\n",
    "Each monkey is given a job: either to yell a specific number or to yell the result of a math operation. All of the number-yelling monkeys know their number from the start; however, the math operation monkeys need to wait for two other monkeys to yell a number, and those two other monkeys might also be waiting on other monkeys.\n",
    "\n",
    "Your job is to work out the number the monkey named root will yell before the monkeys figure it out themselves.\n",
    "\n",
    "For example:\n",
    "\n",
    "root: pppw + sjmn\n",
    "dbpl: 5\n",
    "cczh: sllz + lgvd\n",
    "zczc: 2\n",
    "ptdq: humn - dvpt\n",
    "dvpt: 3\n",
    "lfqf: 4\n",
    "humn: 5\n",
    "ljgn: 2\n",
    "sjmn: drzm * dbpl\n",
    "sllz: 4\n",
    "pppw: cczh / lfqf\n",
    "lgvd: ljgn * ptdq\n",
    "drzm: hmdt - zczc\n",
    "hmdt: 32\n",
    "\n",
    "Each line contains the name of a monkey, a colon, and then the job of that monkey:\n",
    "\n",
    "    A lone number means the monkey's job is simply to yell that number.\n",
    "    A job like aaaa + bbbb means the monkey waits for monkeys aaaa and bbbb to yell each of their numbers; the monkey then yells the sum of those two numbers.\n",
    "    aaaa - bbbb means the monkey yells aaaa's number minus bbbb's number.\n",
    "    Job aaaa * bbbb will yell aaaa's number multiplied by bbbb's number.\n",
    "    Job aaaa / bbbb will yell aaaa's number divided by bbbb's number.\n",
    "\n",
    "So, in the above example, monkey drzm has to wait for monkeys hmdt and zczc to yell their numbers. Fortunately, both hmdt and zczc have jobs that involve simply yelling a single number, so they do this immediately: 32 and 2. Monkey drzm can then yell its number by finding 32 minus 2: 30.\n",
    "\n",
    "Then, monkey sjmn has one of its numbers (30, from monkey drzm), and already has its other number, 5, from dbpl. This allows it to yell its own number by finding 30 multiplied by 5: 150.\n",
    "\n",
    "This process continues until root yells a number: 152.\n",
    "\n",
    "However, your actual situation involves considerably more monkeys. What number will the monkey named root yell?\n",
    "\n",
    "To begin, get your puzzle input.\n",
    "\n",
    "Answer:\n",
    "\n",
    "You can also [Shareon Twitter Mastodon] this puzzle.\n"
   ]
  },
  {
   "cell_type": "markdown",
   "id": "e25021bb",
   "metadata": {},
   "source": []
  }
 ],
 "metadata": {
  "kernelspec": {
   "display_name": "Python 3",
   "language": "python",
   "name": "python3"
  },
  "language_info": {
   "codemirror_mode": {
    "name": "ipython",
    "version": 3
   },
   "file_extension": ".py",
   "mimetype": "text/x-python",
   "name": "python",
   "nbconvert_exporter": "python",
   "pygments_lexer": "ipython3",
   "version": "3.8.10 (default, Nov 14 2022, 12:59:47) \n[GCC 9.4.0]"
  },
  "vscode": {
   "interpreter": {
    "hash": "916dbcbb3f70747c44a77c7bcd40155683ae19c65e1c03b4aa3499c5328201f1"
   }
  }
 },
 "nbformat": 4,
 "nbformat_minor": 5
}
