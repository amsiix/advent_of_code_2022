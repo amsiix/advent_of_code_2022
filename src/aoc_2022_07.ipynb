{
 "cells": [
  {
   "cell_type": "markdown",
   "id": "d2952399-8877-4df7-a926-ceff7142566e",
   "metadata": {},
   "source": [
    "# Advent of Code\n",
    "\n",
    "## --- Day 7: No Space Left On Device ---\n",
    "\n",
    "You can hear birds chirping and raindrops hitting leaves as the expedition proceeds. Occasionally, you can even hear much louder sounds in the distance; how big do the animals get out here, anyway?\n",
    "\n",
    "The device the Elves gave you has problems with more than just its communication system. You try to run a system update:\n",
    "\n",
    "`$ system-update --please --pretty-please-with-sugar-on-top`   \n",
    "`Error: No space left on device`\n",
    "\n",
    "Perhaps you can delete some files to make space for the update?\n",
    "\n",
    "You browse around the filesystem to assess the situation and save the resulting terminal output (your puzzle input). For example:\n",
    "\n",
    "`$ cd /`   \n",
    "`$ ls`   \n",
    "`dir a`   \n",
    "`14848514 b.txt`   \n",
    "`8504156 c.dat`   \n",
    "`dir d`   \n",
    "`$ cd a`   \n",
    "`$ ls`   \n",
    "`dir e`   \n",
    "`29116 f`   \n",
    "`2557 g`   \n",
    "`62596 h.lst`   \n",
    "`$ cd e`   \n",
    "`$ ls`   \n",
    "`584 i`   \n",
    "`$ cd ..`   \n",
    "`$ cd ..`   \n",
    "`$ cd d`   \n",
    "`$ ls`   \n",
    "`4060174 j`   \n",
    "`8033020 d.log`   \n",
    "`5626152 d.ext`   \n",
    "`7214296 k`   \n",
    "\n",
    "The filesystem consists of a tree of files (plain data) and directories (which can contain other directories or files). The outermost directory is called /. You can navigate around the filesystem, moving into or out of directories and listing the contents of the directory you're currently in.\n",
    "\n",
    "Within the terminal output, lines that begin with $ are commands you executed, very much like some modern computers:\n",
    "\n",
    "    cd means change directory. This changes which directory is the current directory, but the specific result depends on the argument:\n",
    "        cd x moves in one level: it looks in the current directory for the directory named x and makes it the current directory.\n",
    "        cd .. moves out one level: it finds the directory that contains the current directory, then makes that directory the current directory.\n",
    "        cd / switches the current directory to the outermost directory, /.\n",
    "    ls means list. It prints out all of the files and directories immediately contained by the current directory:\n",
    "        123 abc means that the current directory contains a file named abc with size 123.\n",
    "        dir xyz means that the current directory contains a directory named xyz.\n",
    "\n",
    "Given the commands and output in the example above, you can determine that the filesystem looks visually like this:\n",
    "\n",
    "- / (dir)\n",
    "  - a (dir)\n",
    "    - e (dir)\n",
    "      - i (file, size=584)\n",
    "    - f (file, size=29116)\n",
    "    - g (file, size=2557)\n",
    "    - h.lst (file, size=62596)\n",
    "  - b.txt (file, size=14848514)\n",
    "  - c.dat (file, size=8504156)\n",
    "  - d (dir)\n",
    "    - j (file, size=4060174)\n",
    "    - d.log (file, size=8033020)\n",
    "    - d.ext (file, size=5626152)\n",
    "    - k (file, size=7214296)\n",
    "\n",
    "Here, there are four directories: / (the outermost directory), a and d (which are in /), and e (which is in a). These directories also contain files of various sizes.\n",
    "\n",
    "Since the disk is full, your first step should probably be to find directories that are good candidates for deletion. To do this, you need to determine the total size of each directory. The total size of a directory is the sum of the sizes of the files it contains, directly or indirectly. (Directories themselves do not count as having any intrinsic size.)\n",
    "\n",
    "The total sizes of the directories above can be found as follows:\n",
    "\n",
    "    The total size of directory e is 584 because it contains a single file i of size 584 and no other directories.\n",
    "    The directory a has total size 94853 because it contains files f (size 29116), g (size 2557), and h.lst (size 62596), plus file i indirectly (a contains e which contains i).\n",
    "    Directory d has total size 24933642.\n",
    "    As the outermost directory, / contains every file. Its total size is 48381165, the sum of the size of every file.\n",
    "\n",
    "To begin, find all of the directories with a total size of at most 100000, then calculate the sum of their total sizes. In the example above, these directories are a and e; the sum of their total sizes is 95437 (94853 + 584). (As in this example, this process can count files more than once!)\n",
    "\n",
    "Find all of the directories with a total size of at most 100000. What is the sum of the total sizes of those directories?\n",
    "\n",
    "To begin, get your puzzle input.\n",
    "\n",
    "Answer:\n",
    "\n",
    "You can also [Shareon Twitter Mastodon] this puzzle.\n"
   ]
  },
  {
   "cell_type": "code",
   "execution_count": 1,
   "id": "c89a6611-b89d-467f-a03b-7829c9521881",
   "metadata": {},
   "outputs": [],
   "source": [
    "data = open(\"../data/aoc_data_07.txt\").read().strip().split(\"\\n\")\n",
    "S = \"$ cd /\\n$ ls\\ndir a\\n14848514 b.txt\\n8504156 c.dat\\ndir d\\n$ cd a\\n$ ls\\ndir e\\n29116 f\\n2557 g\\n62596 h.lst\\n$ cd e\\n$ ls\\n584 i\\n$ cd ..\\n$ cd ..\\n$ cd d\\n$ ls\\n4060174 j\\n8033020 d.log\\n5626152 d.ext\\n7214296 k\"\n",
    "#data = S.strip().split(\"\\n\")"
   ]
  },
  {
   "cell_type": "code",
   "execution_count": 2,
   "id": "fcc9dbcb-a4fc-461e-bac4-e4093c9347b3",
   "metadata": {},
   "outputs": [],
   "source": [
    "list_mode = False;\n",
    "stack = []\n",
    "dirs = [] \n",
    "for t in data:\n",
    "    #print(t[5:])\n",
    "    if t == \"$ ls\":\n",
    "        list_mode = True\n",
    "    else:\n",
    "        if t[0:4] == \"$ cd\":\n",
    "            list_mode = False    \n",
    "            if t != \"$ cd /\":\n",
    "                if  t != \"$ cd ..\":\n",
    "                    stack.append(t[5:])\n",
    "                elif t == \"$ cd ..\":\n",
    "                    stack.pop()\n",
    "\n",
    "        if list_mode:\n",
    "            if t[0:3] != \"dir\":\n",
    "                fsize, fname = t.split(\" \")\n",
    "            else:\n",
    "                fname = t.split(\" \")[1]\n",
    "                fsize = 0\n",
    "                \n",
    "            #print( str(len(stack)) + (' /' + '/'.join(stack) if len(stack) > 0 else ' ') + \"/\" + fsize)\n",
    "            dirs.append( [('/' + '/'.join(stack) if len(stack) > 0 else '/') , int(fsize)])\n",
    "            \n",
    "s = {}\n",
    "for d in sorted(dirs):\n",
    "    if d[0] in s:\n",
    "        s[d[0]] += d[1]\n",
    "    else:\n",
    "        s[d[0]] = d[1]\n",
    "    "
   ]
  },
  {
   "cell_type": "code",
   "execution_count": 3,
   "id": "6003562d-de69-4451-a9d8-9de5cb698962",
   "metadata": {},
   "outputs": [
    {
     "data": {
      "text/plain": [
       "1453349"
      ]
     },
     "execution_count": 3,
     "metadata": {},
     "output_type": "execute_result"
    }
   ],
   "source": [
    "import re\n",
    "\n",
    "dir_size = [sum([s[x] for x in s if re.search(\"^\" + ss, x)]) for ss in s]\n",
    "\n",
    "sum([sz for sz in dir_size if sz <= 100000])\n"
   ]
  },
  {
   "cell_type": "markdown",
   "id": "de912bac-514b-4640-9a94-8359143025d2",
   "metadata": {},
   "source": [
    "Your puzzle answer was `1453349`."
   ]
  },
  {
   "cell_type": "markdown",
   "id": "5fbd759d-7ac4-443e-9b1b-13264775b175",
   "metadata": {},
   "source": [
    "## --- Part Two ---\n",
    "\n",
    "Now, you're ready to choose a directory to delete.\n",
    "\n",
    "The total disk space available to the filesystem is 70000000. To run the update, you need unused space of at least 30000000. You need to find a directory you can delete that will free up enough space to run the update.\n",
    "\n",
    "In the example above, the total size of the outermost directory (and thus the total amount of used space) is 48381165; this means that the size of the unused space must currently be 21618835, which isn't quite the 30000000 required by the update. Therefore, the update still requires a directory with total size of at least 8381165 to be deleted before it can run.\n",
    "\n",
    "To achieve this, you have the following options:\n",
    "\n",
    "    Delete directory e, which would increase unused space by 584.\n",
    "    Delete directory a, which would increase unused space by 94853.\n",
    "    Delete directory d, which would increase unused space by 24933642.\n",
    "    Delete directory /, which would increase unused space by 48381165.\n",
    "\n",
    "Directories e and a are both too small; deleting them would not free up enough space. However, directories d and / are both big enough! Between these, choose the smallest: d, increasing unused space by 24933642.\n",
    "\n",
    "Find the smallest directory that, if deleted, would free up enough space on the filesystem to run the update. What is the total size of that directory?\n"
   ]
  },
  {
   "cell_type": "code",
   "execution_count": 4,
   "id": "ce2d9569-43ae-46bf-8a20-f9cd5c3c9ef5",
   "metadata": {},
   "outputs": [
    {
     "data": {
      "text/plain": [
       "2948823"
      ]
     },
     "execution_count": 4,
     "metadata": {},
     "output_type": "execute_result"
    }
   ],
   "source": [
    "total_disk_space = 70000000\n",
    "min_required_disk_space = 30000000\n",
    "\n",
    "total_used_space = [sum([s[x] for x in s if re.search(\"^\" + ss, x)]) for ss in s if ss == \"/\"].pop()\n",
    "\n",
    "threshold = min_required_disk_space - ( total_disk_space - total_used_space )\n",
    "\n",
    "min([sz for sz in dir_size if sz >= threshold])"
   ]
  },
  {
   "cell_type": "markdown",
   "id": "f4d4d5ec-25e1-46fb-a18b-5c68f5ad1dbb",
   "metadata": {},
   "source": [
    "Your puzzle answer was `2948823`.\n",
    "\n",
    "Both parts of this puzzle are complete! They provide two gold stars: **"
   ]
  }
 ],
 "metadata": {
  "kernelspec": {
   "display_name": "Python 3 (ipykernel)",
   "language": "python",
   "name": "python3"
  },
  "language_info": {
   "codemirror_mode": {
    "name": "ipython",
    "version": 3
   },
   "file_extension": ".py",
   "mimetype": "text/x-python",
   "name": "python",
   "nbconvert_exporter": "python",
   "pygments_lexer": "ipython3",
   "version": "3.9.12"
  }
 },
 "nbformat": 4,
 "nbformat_minor": 5
}
